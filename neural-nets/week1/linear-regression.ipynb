{
 "cells": [
  {
   "cell_type": "code",
   "execution_count": 11,
   "metadata": {
    "collapsed": false,
    "scrolled": true
   },
   "outputs": [],
   "source": [
    "from future import standard_library\n",
    "standard_library.install_aliases()\n",
    "from urllib.request import urlopen\n",
    "import numpy as np\n",
    "\n",
    "fname = input()  # read file name from stdin\n",
    "#fname = 'https://stepic.org/media/attachments/lesson/16462/boston_houses.csv'\n",
    "f = urlopen(fname)  # open file from URL\n",
    "data = np.loadtxt(f, delimiter=',', skiprows=1)  # load data to work with\n",
    "\n",
    "y = data[:,0]\n",
    "X = np.hstack((np.ones((data.shape[0],1)), data[:,1:]))\n",
    "\n",
    "w = np.linalg.solve(X.T.dot(X), X.T.dot(y))\n",
    "print(' '.join(map(str,w)))"
   ]
  },
  {
   "cell_type": "code",
   "execution_count": null,
   "metadata": {
    "collapsed": true
   },
   "outputs": [],
   "source": []
  }
 ],
 "metadata": {
  "kernelspec": {
   "display_name": "Python 2",
   "language": "python",
   "name": "python2"
  },
  "language_info": {
   "codemirror_mode": {
    "name": "ipython",
    "version": 2
   },
   "file_extension": ".py",
   "mimetype": "text/x-python",
   "name": "python",
   "nbconvert_exporter": "python",
   "pygments_lexer": "ipython2",
   "version": "2.7.11+"
  }
 },
 "nbformat": 4,
 "nbformat_minor": 0
}
